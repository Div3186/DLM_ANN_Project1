{
 "cells": [
  {
   "cell_type": "markdown",
   "id": "b7c93e8d",
   "metadata": {},
   "source": [
    "## 📘 Project Information\n",
    "\n",
    "**Title** – Amazon Product Category Classifier using ANN\n",
    "\n",
    "**Submitted by** – Divyank Harjani_055010 and Priyadarshani Dash_055033"
   ]
  },
  {
   "cell_type": "markdown",
   "id": "57ba8deb",
   "metadata": {},
   "source": [
    "## 📊 Description of Data\n",
    "\n",
    "The dataset used in this analysis, *Amazon_Products_Cleaned_INR.csv*, contains information about various consumer products listed on Amazon India.\n",
    "\n",
    "It includes the following attributes:\n",
    "\n",
    "- **Product Title**\n",
    "- **Selling Price**\n",
    "- **MRP**\n",
    "- **Brand**\n",
    "- **Discount**\n",
    "- **Product Category** (Target variable)\n",
    "\n",
    "The target variable comprises **44 unique product categories**, including *Electronics, Handbags, Home Decor, Clothing, Toys*, and more."
   ]
  },
  {
   "cell_type": "markdown",
   "id": "7baf9695",
   "metadata": {},
   "source": [
    "## 🎯 Objective\n",
    "\n",
    "The primary objective is to develop an **Artificial Neural Network (ANN)** model to predict the **product category** based on features such as brand, pricing, and discount.\n",
    "\n",
    "This classifier can be used by e-commerce platforms to:\n",
    "- Auto-categorize products uploaded by sellers\n",
    "- Streamline inventory tagging\n",
    "- Enable better filtering for customers"
   ]
  },
  {
   "cell_type": "markdown",
   "id": "6d4bf8ce",
   "metadata": {},
   "source": [
    "## ⚙️ Model Design & Hyperparameter Tuning\n",
    "\n",
    "The model was built using the following customizable hyperparameters:\n",
    "- Hidden Layers: 1 to 5\n",
    "- Neurons per Layer: 8 to 256\n",
    "- Activation Function: *ReLU, Tanh*\n",
    "- Dropout Rate: 0.0 to 0.5\n",
    "- Optimizer: *Adam, RMSprop*\n",
    "- Learning Rate: 0.0001 to 0.01\n",
    "- Batch Size: 16, 32, 64\n",
    "\n",
    "**Preprocessing**:\n",
    "- OneHotEncoding for categorical columns\n",
    "- StandardScaler for numerical columns\n",
    "- Train-test split ratio: 80:20"
   ]
  },
  {
   "cell_type": "markdown",
   "id": "237b4fc0",
   "metadata": {},
   "source": [
    "## 📈 Dashboard Overview\n",
    "\n",
    "An interactive **Streamlit dashboard** was deployed using **Ngrok** (for temporary links) and **Streamlit Cloud** (for permanent deployment). Users can:\n",
    "- Choose hyperparameters dynamically\n",
    "- View real-time training history\n",
    "- Inspect confusion matrix and classification report\n",
    "- Evaluate model summary"
   ]
  },
  {
   "cell_type": "markdown",
   "id": "bb57276d",
   "metadata": {},
   "source": [
    "## 🔍 Findings\n",
    "\n",
    "- The model performed best with:\n",
    "  - **2 hidden layers**\n",
    "  - **64 neurons per layer**\n",
    "  - **ReLU activation**\n",
    "  - **Dropout: 0.3**\n",
    "  - **Adam optimizer**\n",
    "  - **Batch normalization enabled**\n",
    "\n",
    "- The confusion matrix showed excellent performance for classes like *Handbags*, *Electronics*, and *Toys*, while struggling with less frequent categories like *Jams & Honey* or *Sex & Sensuality* due to class imbalance.\n",
    "\n",
    "- Validation accuracy was observed around **85–90%**, suggesting strong generalization."
   ]
  },
  {
   "cell_type": "markdown",
   "id": "4d50e514",
   "metadata": {},
   "source": [
    "## 📌 Conclusion\n",
    "\n",
    "This project demonstrates the power of ANN in text-based multi-class classification problems. The dynamic dashboard enables users to experiment with the model and observe real-time performance, making it a practical tool for **retail automation** and **e-commerce tagging systems**."
   ]
  }
 ],
 "metadata": {},
 "nbformat": 4,
 "nbformat_minor": 5
}
